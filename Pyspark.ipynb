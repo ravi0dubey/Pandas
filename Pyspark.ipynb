{
 "cells": [
  {
   "cell_type": "code",
   "execution_count": 1,
   "id": "9960b542",
   "metadata": {},
   "outputs": [],
   "source": [
    "import pyspark"
   ]
  },
  {
   "cell_type": "code",
   "execution_count": 2,
   "id": "607234b1",
   "metadata": {},
   "outputs": [],
   "source": [
    "from pyspark.sql import SparkSession"
   ]
  },
  {
   "cell_type": "code",
   "execution_count": 3,
   "id": "ed939dce",
   "metadata": {},
   "outputs": [],
   "source": [
    "spark = SparkSession.builder.appName('Test Session').getOrCreate()"
   ]
  },
  {
   "cell_type": "code",
   "execution_count": 4,
   "id": "d7ab99d1",
   "metadata": {},
   "outputs": [
    {
     "data": {
      "text/html": [
       "\n",
       "            <div>\n",
       "                <p><b>SparkSession - in-memory</b></p>\n",
       "                \n",
       "        <div>\n",
       "            <p><b>SparkContext</b></p>\n",
       "\n",
       "            <p><a href=\"http://host.docker.internal:4040\">Spark UI</a></p>\n",
       "\n",
       "            <dl>\n",
       "              <dt>Version</dt>\n",
       "                <dd><code>v3.2.1</code></dd>\n",
       "              <dt>Master</dt>\n",
       "                <dd><code>local[*]</code></dd>\n",
       "              <dt>AppName</dt>\n",
       "                <dd><code>Test Session</code></dd>\n",
       "            </dl>\n",
       "        </div>\n",
       "        \n",
       "            </div>\n",
       "        "
      ],
      "text/plain": [
       "<pyspark.sql.session.SparkSession at 0x1ec9e84cca0>"
      ]
     },
     "execution_count": 4,
     "metadata": {},
     "output_type": "execute_result"
    }
   ],
   "source": [
    "spark"
   ]
  },
  {
   "cell_type": "code",
   "execution_count": 5,
   "id": "68056e76",
   "metadata": {},
   "outputs": [],
   "source": [
    "df_pyspark = spark.read.csv('D:\\Study\\Data Science\\Dataset\\Online_Retail.csv')"
   ]
  },
  {
   "cell_type": "code",
   "execution_count": 6,
   "id": "ac614ea3",
   "metadata": {},
   "outputs": [
    {
     "data": {
      "text/plain": [
       "DataFrame[_c0: string, _c1: string, _c2: string, _c3: string, _c4: string, _c5: string, _c6: string, _c7: string]"
      ]
     },
     "execution_count": 6,
     "metadata": {},
     "output_type": "execute_result"
    }
   ],
   "source": [
    "# by default pyspark takes its own header \n",
    "df_pyspark"
   ]
  },
  {
   "cell_type": "code",
   "execution_count": 7,
   "id": "750cfbb3",
   "metadata": {},
   "outputs": [
    {
     "name": "stdout",
     "output_type": "stream",
     "text": [
      "+---------+---------+--------------------+--------+---------------+---------+----------+--------------+\n",
      "|      _c0|      _c1|                 _c2|     _c3|            _c4|      _c5|       _c6|           _c7|\n",
      "+---------+---------+--------------------+--------+---------------+---------+----------+--------------+\n",
      "|InvoiceNo|StockCode|         Description|Quantity|    InvoiceDate|UnitPrice|CustomerID|       Country|\n",
      "|   536365|   85123A|WHITE HANGING HEA...|       6|2010-12-01 8:26|     2.55|     17850|United Kingdom|\n",
      "|   536365|    71053| WHITE METAL LANTERN|       6|2010-12-01 8:26|     3.39|     17850|United Kingdom|\n",
      "|   536365|   84406B|CREAM CUPID HEART...|       8|2010-12-01 8:26|     2.75|     17850|United Kingdom|\n",
      "|   536365|   84029G|KNITTED UNION FLA...|       6|2010-12-01 8:26|     3.39|     17850|United Kingdom|\n",
      "|   536365|   84029E|RED WOOLLY HOTTIE...|       6|2010-12-01 8:26|     3.39|     17850|United Kingdom|\n",
      "|   536365|    22752|SET 7 BABUSHKA NE...|       2|2010-12-01 8:26|     7.65|     17850|United Kingdom|\n",
      "|   536365|    21730|GLASS STAR FROSTE...|       6|2010-12-01 8:26|     4.25|     17850|United Kingdom|\n",
      "|   536366|    22633|HAND WARMER UNION...|       6|2010-12-01 8:28|     1.85|     17850|United Kingdom|\n",
      "|   536366|    22632|HAND WARMER RED P...|       6|2010-12-01 8:28|     1.85|     17850|United Kingdom|\n",
      "|   536367|    84879|ASSORTED COLOUR B...|      32|2010-12-01 8:34|     1.69|     13047|United Kingdom|\n",
      "|   536367|    22745|POPPY'S PLAYHOUSE...|       6|2010-12-01 8:34|      2.1|     13047|United Kingdom|\n",
      "|   536367|    22748|POPPY'S PLAYHOUSE...|       6|2010-12-01 8:34|      2.1|     13047|United Kingdom|\n",
      "|   536367|    22749|FELTCRAFT PRINCES...|       8|2010-12-01 8:34|     3.75|     13047|United Kingdom|\n",
      "|   536367|    22310|IVORY KNITTED MUG...|       6|2010-12-01 8:34|     1.65|     13047|United Kingdom|\n",
      "|   536367|    84969|BOX OF 6 ASSORTED...|       6|2010-12-01 8:34|     4.25|     13047|United Kingdom|\n",
      "|   536367|    22623|BOX OF VINTAGE JI...|       3|2010-12-01 8:34|     4.95|     13047|United Kingdom|\n",
      "|   536367|    22622|BOX OF VINTAGE AL...|       2|2010-12-01 8:34|     9.95|     13047|United Kingdom|\n",
      "|   536367|    21754|HOME BUILDING BLO...|       3|2010-12-01 8:34|     5.95|     13047|United Kingdom|\n",
      "|   536367|    21755|LOVE BUILDING BLO...|       3|2010-12-01 8:34|     5.95|     13047|United Kingdom|\n",
      "+---------+---------+--------------------+--------+---------------+---------+----------+--------------+\n",
      "only showing top 20 rows\n",
      "\n"
     ]
    }
   ],
   "source": [
    "df_pyspark.show()"
   ]
  },
  {
   "cell_type": "code",
   "execution_count": 8,
   "id": "8a1c1b02",
   "metadata": {},
   "outputs": [
    {
     "data": {
      "text/plain": [
       "DataFrame[InvoiceNo: string, StockCode: string, Description: string, Quantity: string, InvoiceDate: string, UnitPrice: string, CustomerID: string, Country: string]"
      ]
     },
     "execution_count": 8,
     "metadata": {},
     "output_type": "execute_result"
    }
   ],
   "source": [
    "# to ignore top row which comes by default and read header instead\n",
    "# by default all columns will be treated as string\n",
    "\n",
    "df_pyspark = spark.read.option('header','true').csv('D:\\Study\\Data Science\\Dataset\\Online_Retail.csv')\n",
    "df_pyspark"
   ]
  },
  {
   "cell_type": "code",
   "execution_count": 9,
   "id": "42f04392",
   "metadata": {},
   "outputs": [
    {
     "name": "stdout",
     "output_type": "stream",
     "text": [
      "+---------+---------+--------------------+--------+---------------+---------+----------+--------------+\n",
      "|InvoiceNo|StockCode|         Description|Quantity|    InvoiceDate|UnitPrice|CustomerID|       Country|\n",
      "+---------+---------+--------------------+--------+---------------+---------+----------+--------------+\n",
      "|   536365|   85123A|WHITE HANGING HEA...|       6|2010-12-01 8:26|     2.55|     17850|United Kingdom|\n",
      "|   536365|    71053| WHITE METAL LANTERN|       6|2010-12-01 8:26|     3.39|     17850|United Kingdom|\n",
      "|   536365|   84406B|CREAM CUPID HEART...|       8|2010-12-01 8:26|     2.75|     17850|United Kingdom|\n",
      "|   536365|   84029G|KNITTED UNION FLA...|       6|2010-12-01 8:26|     3.39|     17850|United Kingdom|\n",
      "|   536365|   84029E|RED WOOLLY HOTTIE...|       6|2010-12-01 8:26|     3.39|     17850|United Kingdom|\n",
      "+---------+---------+--------------------+--------+---------------+---------+----------+--------------+\n",
      "only showing top 5 rows\n",
      "\n"
     ]
    }
   ],
   "source": [
    "df_pyspark.show(5)"
   ]
  },
  {
   "cell_type": "code",
   "execution_count": 10,
   "id": "db19ab52",
   "metadata": {},
   "outputs": [
    {
     "data": {
      "text/plain": [
       "pyspark.sql.dataframe.DataFrame"
      ]
     },
     "execution_count": 10,
     "metadata": {},
     "output_type": "execute_result"
    }
   ],
   "source": [
    "type(df_pyspark)"
   ]
  },
  {
   "cell_type": "code",
   "execution_count": 11,
   "id": "b89bf084",
   "metadata": {},
   "outputs": [
    {
     "name": "stdout",
     "output_type": "stream",
     "text": [
      "root\n",
      " |-- InvoiceNo: string (nullable = true)\n",
      " |-- StockCode: string (nullable = true)\n",
      " |-- Description: string (nullable = true)\n",
      " |-- Quantity: string (nullable = true)\n",
      " |-- InvoiceDate: string (nullable = true)\n",
      " |-- UnitPrice: string (nullable = true)\n",
      " |-- CustomerID: string (nullable = true)\n",
      " |-- Country: string (nullable = true)\n",
      "\n"
     ]
    }
   ],
   "source": [
    "# just like we have df.info in pandas  we have below command for pyspark\n",
    "\n",
    "df_pyspark.printSchema()"
   ]
  },
  {
   "cell_type": "code",
   "execution_count": 12,
   "id": "d4de4cbe",
   "metadata": {},
   "outputs": [
    {
     "data": {
      "text/plain": [
       "DataFrame[InvoiceNo: string, StockCode: string, Description: string, Quantity: int, InvoiceDate: string, UnitPrice: double, CustomerID: int, Country: string]"
      ]
     },
     "execution_count": 12,
     "metadata": {},
     "output_type": "execute_result"
    }
   ],
   "source": [
    "# to ignore top row which comes by default, option with header= True will read header instead\n",
    "# by default all columns will be treated the way they are with inferSchema = True\n",
    "\n",
    "df_pyspark = spark.read.option('header','true').csv('D:\\Study\\Data Science\\Dataset\\Online_Retail.csv', inferSchema= True)\n",
    "df_pyspark"
   ]
  },
  {
   "cell_type": "code",
   "execution_count": 13,
   "id": "95431b1c",
   "metadata": {},
   "outputs": [
    {
     "name": "stdout",
     "output_type": "stream",
     "text": [
      "+---------+---------+--------------------+--------+---------------+---------+----------+--------------+\n",
      "|InvoiceNo|StockCode|         Description|Quantity|    InvoiceDate|UnitPrice|CustomerID|       Country|\n",
      "+---------+---------+--------------------+--------+---------------+---------+----------+--------------+\n",
      "|   536365|   85123A|WHITE HANGING HEA...|       6|2010-12-01 8:26|     2.55|     17850|United Kingdom|\n",
      "|   536365|    71053| WHITE METAL LANTERN|       6|2010-12-01 8:26|     3.39|     17850|United Kingdom|\n",
      "|   536365|   84406B|CREAM CUPID HEART...|       8|2010-12-01 8:26|     2.75|     17850|United Kingdom|\n",
      "|   536365|   84029G|KNITTED UNION FLA...|       6|2010-12-01 8:26|     3.39|     17850|United Kingdom|\n",
      "|   536365|   84029E|RED WOOLLY HOTTIE...|       6|2010-12-01 8:26|     3.39|     17850|United Kingdom|\n",
      "+---------+---------+--------------------+--------+---------------+---------+----------+--------------+\n",
      "only showing top 5 rows\n",
      "\n"
     ]
    }
   ],
   "source": [
    "df_pyspark.show(5)"
   ]
  },
  {
   "cell_type": "code",
   "execution_count": 14,
   "id": "a96f0c89",
   "metadata": {},
   "outputs": [
    {
     "name": "stdout",
     "output_type": "stream",
     "text": [
      "root\n",
      " |-- InvoiceNo: string (nullable = true)\n",
      " |-- StockCode: string (nullable = true)\n",
      " |-- Description: string (nullable = true)\n",
      " |-- Quantity: integer (nullable = true)\n",
      " |-- InvoiceDate: string (nullable = true)\n",
      " |-- UnitPrice: double (nullable = true)\n",
      " |-- CustomerID: integer (nullable = true)\n",
      " |-- Country: string (nullable = true)\n",
      "\n"
     ]
    }
   ],
   "source": [
    "df_pyspark.printSchema()"
   ]
  },
  {
   "cell_type": "markdown",
   "id": "9590c678",
   "metadata": {},
   "source": [
    "## Reading dataset"
   ]
  },
  {
   "cell_type": "code",
   "execution_count": 15,
   "id": "4e26a784",
   "metadata": {},
   "outputs": [
    {
     "data": {
      "text/plain": [
       "DataFrame[InvoiceNo: string, StockCode: string, Description: string, Quantity: int, InvoiceDate: string, UnitPrice: double, CustomerID: int, Country: string]"
      ]
     },
     "execution_count": 15,
     "metadata": {},
     "output_type": "execute_result"
    }
   ],
   "source": [
    "# To ignore top row and read data with its actual dataype\n",
    "\n",
    "df_pyspark = spark.read.csv('D:\\Study\\Data Science\\Dataset\\Online_Retail.csv', header= True, inferSchema= True)\n",
    "df_pyspark"
   ]
  },
  {
   "cell_type": "code",
   "execution_count": 16,
   "id": "594cf261",
   "metadata": {},
   "outputs": [
    {
     "name": "stdout",
     "output_type": "stream",
     "text": [
      "+---------+---------+--------------------+--------+---------------+---------+----------+--------------+\n",
      "|InvoiceNo|StockCode|         Description|Quantity|    InvoiceDate|UnitPrice|CustomerID|       Country|\n",
      "+---------+---------+--------------------+--------+---------------+---------+----------+--------------+\n",
      "|   536365|   85123A|WHITE HANGING HEA...|       6|2010-12-01 8:26|     2.55|     17850|United Kingdom|\n",
      "|   536365|    71053| WHITE METAL LANTERN|       6|2010-12-01 8:26|     3.39|     17850|United Kingdom|\n",
      "|   536365|   84406B|CREAM CUPID HEART...|       8|2010-12-01 8:26|     2.75|     17850|United Kingdom|\n",
      "|   536365|   84029G|KNITTED UNION FLA...|       6|2010-12-01 8:26|     3.39|     17850|United Kingdom|\n",
      "|   536365|   84029E|RED WOOLLY HOTTIE...|       6|2010-12-01 8:26|     3.39|     17850|United Kingdom|\n",
      "+---------+---------+--------------------+--------+---------------+---------+----------+--------------+\n",
      "only showing top 5 rows\n",
      "\n"
     ]
    }
   ],
   "source": [
    "df_pyspark.show(5)"
   ]
  },
  {
   "cell_type": "code",
   "execution_count": 17,
   "id": "2e17bba7",
   "metadata": {},
   "outputs": [
    {
     "name": "stdout",
     "output_type": "stream",
     "text": [
      "root\n",
      " |-- InvoiceNo: string (nullable = true)\n",
      " |-- StockCode: string (nullable = true)\n",
      " |-- Description: string (nullable = true)\n",
      " |-- Quantity: integer (nullable = true)\n",
      " |-- InvoiceDate: string (nullable = true)\n",
      " |-- UnitPrice: double (nullable = true)\n",
      " |-- CustomerID: integer (nullable = true)\n",
      " |-- Country: string (nullable = true)\n",
      "\n"
     ]
    }
   ],
   "source": [
    "# printschema is equivalent of info() of pandas\n",
    "\n",
    "df_pyspark.printSchema()"
   ]
  },
  {
   "cell_type": "code",
   "execution_count": 18,
   "id": "a4435917",
   "metadata": {},
   "outputs": [
    {
     "data": {
      "text/plain": [
       "['InvoiceNo',\n",
       " 'StockCode',\n",
       " 'Description',\n",
       " 'Quantity',\n",
       " 'InvoiceDate',\n",
       " 'UnitPrice',\n",
       " 'CustomerID',\n",
       " 'Country']"
      ]
     },
     "execution_count": 18,
     "metadata": {},
     "output_type": "execute_result"
    }
   ],
   "source": [
    "df_pyspark.columns"
   ]
  },
  {
   "cell_type": "markdown",
   "id": "fd4f9f32",
   "metadata": {},
   "source": [
    "## Filter based on Column "
   ]
  },
  {
   "cell_type": "code",
   "execution_count": 19,
   "id": "f7189cc1",
   "metadata": {},
   "outputs": [
    {
     "data": {
      "text/plain": [
       "DataFrame[Description: string]"
      ]
     },
     "execution_count": 19,
     "metadata": {},
     "output_type": "execute_result"
    }
   ],
   "source": [
    "#To check a particular column\n",
    "df_pyspark.select('Description')"
   ]
  },
  {
   "cell_type": "code",
   "execution_count": 20,
   "id": "699663c9",
   "metadata": {},
   "outputs": [
    {
     "name": "stdout",
     "output_type": "stream",
     "text": [
      "+--------------------+\n",
      "|         Description|\n",
      "+--------------------+\n",
      "|WHITE HANGING HEA...|\n",
      "| WHITE METAL LANTERN|\n",
      "|CREAM CUPID HEART...|\n",
      "|KNITTED UNION FLA...|\n",
      "|RED WOOLLY HOTTIE...|\n",
      "+--------------------+\n",
      "only showing top 5 rows\n",
      "\n"
     ]
    }
   ],
   "source": [
    "#To view a particular column value\n",
    "df_pyspark.select('Description').show(5)"
   ]
  },
  {
   "cell_type": "code",
   "execution_count": 21,
   "id": "87eedddc",
   "metadata": {},
   "outputs": [
    {
     "data": {
      "text/plain": [
       "DataFrame[Description: string, Quantity: int]"
      ]
     },
     "execution_count": 21,
     "metadata": {},
     "output_type": "execute_result"
    }
   ],
   "source": [
    "#To check type of multiple columns value\n",
    "df_pyspark.select('Description','Quantity')"
   ]
  },
  {
   "cell_type": "code",
   "execution_count": 22,
   "id": "2cbc2922",
   "metadata": {},
   "outputs": [
    {
     "name": "stdout",
     "output_type": "stream",
     "text": [
      "+--------------------+--------+\n",
      "|         Description|Quantity|\n",
      "+--------------------+--------+\n",
      "|WHITE HANGING HEA...|       6|\n",
      "| WHITE METAL LANTERN|       6|\n",
      "|CREAM CUPID HEART...|       8|\n",
      "|KNITTED UNION FLA...|       6|\n",
      "|RED WOOLLY HOTTIE...|       6|\n",
      "+--------------------+--------+\n",
      "only showing top 5 rows\n",
      "\n"
     ]
    }
   ],
   "source": [
    "#To view a multiple columns value\n",
    "df_pyspark.select('Description','Quantity').show(5)"
   ]
  },
  {
   "cell_type": "code",
   "execution_count": 23,
   "id": "64cab104",
   "metadata": {},
   "outputs": [
    {
     "data": {
      "text/plain": [
       "pyspark.sql.dataframe.DataFrame"
      ]
     },
     "execution_count": 23,
     "metadata": {},
     "output_type": "execute_result"
    }
   ],
   "source": [
    "# Output return type is dataframe\n",
    "\n",
    "type(df_pyspark.select('Description','Quantity'))"
   ]
  },
  {
   "cell_type": "code",
   "execution_count": 24,
   "id": "3232bb5e",
   "metadata": {},
   "outputs": [
    {
     "data": {
      "text/plain": [
       "[('InvoiceNo', 'string'),\n",
       " ('StockCode', 'string'),\n",
       " ('Description', 'string'),\n",
       " ('Quantity', 'int'),\n",
       " ('InvoiceDate', 'string'),\n",
       " ('UnitPrice', 'double'),\n",
       " ('CustomerID', 'int'),\n",
       " ('Country', 'string')]"
      ]
     },
     "execution_count": 24,
     "metadata": {},
     "output_type": "execute_result"
    }
   ],
   "source": [
    "# to check the datadtypes of each columns\n",
    "df_pyspark.dtypes"
   ]
  },
  {
   "cell_type": "code",
   "execution_count": 26,
   "id": "affe9ce1",
   "metadata": {},
   "outputs": [
    {
     "name": "stdout",
     "output_type": "stream",
     "text": [
      "+-------+------------------+------------------+--------------------+------------------+----------------+-----------------+------------------+-----------+\n",
      "|summary|         InvoiceNo|         StockCode|         Description|          Quantity|     InvoiceDate|        UnitPrice|        CustomerID|    Country|\n",
      "+-------+------------------+------------------+--------------------+------------------+----------------+-----------------+------------------+-----------+\n",
      "|  count|            541909|            541909|              540455|            541909|          541909|           541909|            406829|     541909|\n",
      "|   mean|  559965.752026781|27623.240210938104|             20713.0|  9.55224954743324|            null|4.611113626089747|15287.690570239585|       null|\n",
      "| stddev|13428.417280797334|16799.737628427712|                null|218.08115785023438|            null|96.75985306117924|1713.6003033216014|       null|\n",
      "|    min|            536365|             10002| 4 PURPLE FLOCK D...|            -80995|2010-12-01 10:03|        -11062.06|             12346|  Australia|\n",
      "|    max|           C581569|                 m|   wrongly sold sets|             80995| 2011-12-09 9:57|          38970.0|             18287|Unspecified|\n",
      "+-------+------------------+------------------+--------------------+------------------+----------------+-----------------+------------------+-----------+\n",
      "\n"
     ]
    }
   ],
   "source": [
    "# what is equivalent of describe function of pandas\n",
    "df_pyspark.describe().show()"
   ]
  },
  {
   "cell_type": "markdown",
   "id": "90bc1992",
   "metadata": {},
   "source": [
    "## Adding columns in pyspark"
   ]
  },
  {
   "cell_type": "code",
   "execution_count": 35,
   "id": "41d2feb9",
   "metadata": {},
   "outputs": [],
   "source": [
    "### Adding columns in dataframe\n",
    "\n",
    "df_pysparknew = df_pyspark.withColumn('Unit Price + 1', df_pyspark['UnitPrice']+1).withColumn('Quantity - 1',df_pyspark['Quantity']-1)"
   ]
  },
  {
   "cell_type": "code",
   "execution_count": 36,
   "id": "6bfc11ca",
   "metadata": {},
   "outputs": [
    {
     "name": "stdout",
     "output_type": "stream",
     "text": [
      "+---------+---------+--------------------+--------+---------------+---------+----------+--------------+-----------------+------------+\n",
      "|InvoiceNo|StockCode|         Description|Quantity|    InvoiceDate|UnitPrice|CustomerID|       Country|   Unit Price + 1|Quantity - 1|\n",
      "+---------+---------+--------------------+--------+---------------+---------+----------+--------------+-----------------+------------+\n",
      "|   536365|   85123A|WHITE HANGING HEA...|       6|2010-12-01 8:26|     2.55|     17850|United Kingdom|             3.55|           5|\n",
      "|   536365|    71053| WHITE METAL LANTERN|       6|2010-12-01 8:26|     3.39|     17850|United Kingdom|4.390000000000001|           5|\n",
      "|   536365|   84406B|CREAM CUPID HEART...|       8|2010-12-01 8:26|     2.75|     17850|United Kingdom|             3.75|           7|\n",
      "|   536365|   84029G|KNITTED UNION FLA...|       6|2010-12-01 8:26|     3.39|     17850|United Kingdom|4.390000000000001|           5|\n",
      "|   536365|   84029E|RED WOOLLY HOTTIE...|       6|2010-12-01 8:26|     3.39|     17850|United Kingdom|4.390000000000001|           5|\n",
      "+---------+---------+--------------------+--------+---------------+---------+----------+--------------+-----------------+------------+\n",
      "only showing top 5 rows\n",
      "\n"
     ]
    }
   ],
   "source": [
    "df_pysparknew.show(5)"
   ]
  },
  {
   "cell_type": "code",
   "execution_count": 43,
   "id": "e7acf33d",
   "metadata": {},
   "outputs": [
    {
     "name": "stdout",
     "output_type": "stream",
     "text": [
      "+---------+---------+--------------------+--------+---------------+---------+----------+--------------+-----------+-----------------+\n",
      "|InvoiceNo|StockCode|         Description|Quantity|    InvoiceDate|UnitPrice|CustomerID|       Country|Quatity - 1|     Unit Price+2|\n",
      "+---------+---------+--------------------+--------+---------------+---------+----------+--------------+-----------+-----------------+\n",
      "|   536365|   85123A|WHITE HANGING HEA...|       6|2010-12-01 8:26|     2.55|     17850|United Kingdom|          7|             4.55|\n",
      "|   536365|    71053| WHITE METAL LANTERN|       6|2010-12-01 8:26|     3.39|     17850|United Kingdom|          7|5.390000000000001|\n",
      "|   536365|   84406B|CREAM CUPID HEART...|       8|2010-12-01 8:26|     2.75|     17850|United Kingdom|          9|             4.75|\n",
      "|   536365|   84029G|KNITTED UNION FLA...|       6|2010-12-01 8:26|     3.39|     17850|United Kingdom|          7|5.390000000000001|\n",
      "|   536365|   84029E|RED WOOLLY HOTTIE...|       6|2010-12-01 8:26|     3.39|     17850|United Kingdom|          7|5.390000000000001|\n",
      "+---------+---------+--------------------+--------+---------------+---------+----------+--------------+-----------+-----------------+\n",
      "only showing top 5 rows\n",
      "\n"
     ]
    }
   ],
   "source": [
    "### Adding columns in dataframe\n",
    "df_pysparknew1= df_pyspark.select('*',(df_pyspark['Quantity'] +1).alias('Quatity - 1'),(df_pyspark.UnitPrice + 2).alias('Unit Price+2'))\n",
    "df_pysparknew1.show(5)"
   ]
  },
  {
   "cell_type": "markdown",
   "id": "f401e2a5",
   "metadata": {},
   "source": [
    "##  Renaming the columns"
   ]
  },
  {
   "cell_type": "code",
   "execution_count": 52,
   "id": "5c829f83",
   "metadata": {},
   "outputs": [
    {
     "name": "stdout",
     "output_type": "stream",
     "text": [
      "+------------+---------+--------------------+--------+---------------+---------+----------+--------------+\n",
      "|NewInvoiceNo|StockCode|         Description|Quantity|    InvoiceDate|UnitPrice|CustomerID|       Country|\n",
      "+------------+---------+--------------------+--------+---------------+---------+----------+--------------+\n",
      "|      536365|   85123A|WHITE HANGING HEA...|       6|2010-12-01 8:26|     2.55|     17850|United Kingdom|\n",
      "|      536365|    71053| WHITE METAL LANTERN|       6|2010-12-01 8:26|     3.39|     17850|United Kingdom|\n",
      "|      536365|   84406B|CREAM CUPID HEART...|       8|2010-12-01 8:26|     2.75|     17850|United Kingdom|\n",
      "|      536365|   84029G|KNITTED UNION FLA...|       6|2010-12-01 8:26|     3.39|     17850|United Kingdom|\n",
      "|      536365|   84029E|RED WOOLLY HOTTIE...|       6|2010-12-01 8:26|     3.39|     17850|United Kingdom|\n",
      "+------------+---------+--------------------+--------+---------------+---------+----------+--------------+\n",
      "only showing top 5 rows\n",
      "\n"
     ]
    }
   ],
   "source": [
    "## Renaming the columns\n",
    "df_pysparknew2= df_pysparknew1.withColumnRenamed('InvoiceNo','NewInvoiceNo')\n",
    "df_pysparknew2.show(5)"
   ]
  },
  {
   "cell_type": "markdown",
   "id": "f770639d",
   "metadata": {},
   "source": [
    "## Finding NaN, IsNull or None Values "
   ]
  },
  {
   "cell_type": "code",
   "execution_count": 54,
   "id": "fffd2391",
   "metadata": {},
   "outputs": [
    {
     "name": "stdout",
     "output_type": "stream",
     "text": [
      "+---------+---------+-----------+--------+-----------+---------+----------+-------+\n",
      "|InvoiceNo|StockCode|Description|Quantity|InvoiceDate|UnitPrice|CustomerID|Country|\n",
      "+---------+---------+-----------+--------+-----------+---------+----------+-------+\n",
      "|        0|        0|       1454|       0|          0|        0|    135080|      0|\n",
      "+---------+---------+-----------+--------+-----------+---------+----------+-------+\n",
      "\n"
     ]
    }
   ],
   "source": [
    "#Find count of NAN, isNull, None  for all columns\n",
    "\n",
    "from pyspark.sql.functions import col,isnan,when,count\n",
    "df_Columns=[\"name\",\"state\",\"number\"]\n",
    "df_pyspark.select([count(when(isnan(c) | col(c).isNull(), c)).alias(c) for c in df_pyspark.columns]).show()"
   ]
  },
  {
   "cell_type": "code",
   "execution_count": 55,
   "id": "23f100d3",
   "metadata": {},
   "outputs": [
    {
     "name": "stdout",
     "output_type": "stream",
     "text": [
      "+---------+-----------+----------+\n",
      "|InvoiceNo|Description|CustomerID|\n",
      "+---------+-----------+----------+\n",
      "|        0|       1454|    135080|\n",
      "+---------+-----------+----------+\n",
      "\n"
     ]
    }
   ],
   "source": [
    "#Find count of NAN, isNull, None for Selected columns\n",
    "\n",
    "from pyspark.sql.functions import col,isnan,when,count\n",
    "df_Columns=[\"InvoiceNo\",\"Description\",\"CustomerID\"]\n",
    "df_pyspark.select([count(when(isnan(c) | col(c).isNull(), c)).alias(c) for c in df_Columns]).show()"
   ]
  },
  {
   "cell_type": "code",
   "execution_count": 57,
   "id": "80becbd5",
   "metadata": {},
   "outputs": [
    {
     "name": "stdout",
     "output_type": "stream",
     "text": [
      "+---------+---------+-----------+--------+-----------+---------+----------+-------+\n",
      "|InvoiceNo|StockCode|Description|Quantity|InvoiceDate|UnitPrice|CustomerID|Country|\n",
      "+---------+---------+-----------+--------+-----------+---------+----------+-------+\n",
      "|        0|        0|       1536|       0|          0|        0|    135080|      0|\n",
      "+---------+---------+-----------+--------+-----------+---------+----------+-------+\n",
      "\n"
     ]
    }
   ],
   "source": [
    "# Find count for empty, None, Null, Nan with string literals.\n",
    "\n",
    "from pyspark.sql.functions import col,isnan,when,count\n",
    "df2 = df_pyspark.select([count(when(col(c).contains('None') | col(c).contains('NULL') | (col(c) == '' ) | \\\n",
    "                                   col(c).isNull() | isnan(c) | col(c).contains('?'), c )).alias(c) \n",
    "                         for c in df_pyspark.columns])\n",
    "                    \n",
    "df2.show()"
   ]
  },
  {
   "cell_type": "markdown",
   "id": "268af2d3",
   "metadata": {},
   "source": [
    "## Dropping a column"
   ]
  },
  {
   "cell_type": "code",
   "execution_count": 46,
   "id": "08aba727",
   "metadata": {},
   "outputs": [
    {
     "name": "stdout",
     "output_type": "stream",
     "text": [
      "+---------+---------+--------------------+--------+---------------+---------+----------+--------------+\n",
      "|InvoiceNo|StockCode|         Description|Quantity|    InvoiceDate|UnitPrice|CustomerID|       Country|\n",
      "+---------+---------+--------------------+--------+---------------+---------+----------+--------------+\n",
      "|   536365|   85123A|WHITE HANGING HEA...|       6|2010-12-01 8:26|     2.55|     17850|United Kingdom|\n",
      "|   536365|    71053| WHITE METAL LANTERN|       6|2010-12-01 8:26|     3.39|     17850|United Kingdom|\n",
      "|   536365|   84406B|CREAM CUPID HEART...|       8|2010-12-01 8:26|     2.75|     17850|United Kingdom|\n",
      "|   536365|   84029G|KNITTED UNION FLA...|       6|2010-12-01 8:26|     3.39|     17850|United Kingdom|\n",
      "|   536365|   84029E|RED WOOLLY HOTTIE...|       6|2010-12-01 8:26|     3.39|     17850|United Kingdom|\n",
      "+---------+---------+--------------------+--------+---------------+---------+----------+--------------+\n",
      "only showing top 5 rows\n",
      "\n"
     ]
    }
   ],
   "source": [
    "## Dropping the columns\n",
    "\n",
    "df_pysparknew1 = df_pysparknew1.drop('Quatity - 1','Unit Price + 2')\n",
    "df_pysparknew1.show(5)"
   ]
  },
  {
   "cell_type": "code",
   "execution_count": 59,
   "id": "77fa4a92",
   "metadata": {},
   "outputs": [],
   "source": [
    "## dropping a row where all columns contains null values\n",
    "df_drop= df_pyspark.na.drop(how=\"all\")"
   ]
  },
  {
   "cell_type": "code",
   "execution_count": 60,
   "id": "bb2e0289",
   "metadata": {},
   "outputs": [
    {
     "name": "stdout",
     "output_type": "stream",
     "text": [
      "+-------+------------------+------------------+--------------------+------------------+----------------+-----------------+------------------+-----------+\n",
      "|summary|         InvoiceNo|         StockCode|         Description|          Quantity|     InvoiceDate|        UnitPrice|        CustomerID|    Country|\n",
      "+-------+------------------+------------------+--------------------+------------------+----------------+-----------------+------------------+-----------+\n",
      "|  count|            541909|            541909|              540455|            541909|          541909|           541909|            406829|     541909|\n",
      "|   mean|  559965.752026781|27623.240210938104|             20713.0|  9.55224954743324|            null|4.611113626089747|15287.690570239585|       null|\n",
      "| stddev|13428.417280797334|16799.737628427712|                null|218.08115785023438|            null|96.75985306117924|1713.6003033216014|       null|\n",
      "|    min|            536365|             10002| 4 PURPLE FLOCK D...|            -80995|2010-12-01 10:03|        -11062.06|             12346|  Australia|\n",
      "|    max|           C581569|                 m|   wrongly sold sets|             80995| 2011-12-09 9:57|          38970.0|             18287|Unspecified|\n",
      "+-------+------------------+------------------+--------------------+------------------+----------------+-----------------+------------------+-----------+\n",
      "\n"
     ]
    }
   ],
   "source": [
    "# not a single row gets dropped\n",
    "df_drop.describe().show()"
   ]
  },
  {
   "cell_type": "markdown",
   "id": "1d49d37c",
   "metadata": {},
   "source": [
    "## Dropping a Row"
   ]
  },
  {
   "cell_type": "code",
   "execution_count": 61,
   "id": "00c01246",
   "metadata": {},
   "outputs": [],
   "source": [
    "## Dropping a row where any of the column value has null in it\n",
    "\n",
    "df_drop1= df_pyspark.na.drop(how=\"any\")"
   ]
  },
  {
   "cell_type": "code",
   "execution_count": 62,
   "id": "aad75efb",
   "metadata": {},
   "outputs": [
    {
     "name": "stdout",
     "output_type": "stream",
     "text": [
      "+-------+-----------------+------------------+--------------------+------------------+----------------+------------------+------------------+-----------+\n",
      "|summary|        InvoiceNo|         StockCode|         Description|          Quantity|     InvoiceDate|         UnitPrice|        CustomerID|    Country|\n",
      "+-------+-----------------+------------------+--------------------+------------------+----------------+------------------+------------------+-----------+\n",
      "|  count|           406829|            406829|              406829|            406829|          406829|            406829|            406829|     406829|\n",
      "|   mean|560617.1266447864|27430.341352504624|                null| 12.06130339774205|            null|3.4604710185365457|15287.690570239585|       null|\n",
      "| stddev|13106.16769474375| 16403.57045262615|                null|248.69337001882482|            null| 69.31516172321447|1713.6003033216014|       null|\n",
      "|    min|           536365|             10002| 4 PURPLE FLOCK D...|            -80995|2010-12-01 10:03|               0.0|             12346|  Australia|\n",
      "|    max|          C581569|              POST|ZINC WIRE SWEETHE...|             80995| 2011-12-09 9:57|           38970.0|             18287|Unspecified|\n",
      "+-------+-----------------+------------------+--------------------+------------------+----------------+------------------+------------------+-----------+\n",
      "\n"
     ]
    }
   ],
   "source": [
    "# it shows that 135080 rows got deleted which is equivalent to blank values of CustomerID\n",
    "\n",
    "df_drop1.describe().show()"
   ]
  },
  {
   "cell_type": "code",
   "execution_count": 69,
   "id": "e168bb6e",
   "metadata": {},
   "outputs": [],
   "source": [
    "## Dropping a row where any of the column value has null in it but threshold is 7 which means we should have 6 non \n",
    "# null values in a row\n",
    "\n",
    "df_drop2= df_pyspark.na.drop(how=\"any\",thresh= 7)"
   ]
  },
  {
   "cell_type": "code",
   "execution_count": 70,
   "id": "7a7573bc",
   "metadata": {},
   "outputs": [
    {
     "name": "stdout",
     "output_type": "stream",
     "text": [
      "+-------+------------------+------------------+--------------------+-----------------+----------------+-----------------+------------------+-----------+\n",
      "|summary|         InvoiceNo|         StockCode|         Description|         Quantity|     InvoiceDate|        UnitPrice|        CustomerID|    Country|\n",
      "+-------+------------------+------------------+--------------------+-----------------+----------------+-----------------+------------------+-----------+\n",
      "|  count|            540455|            540455|              540455|           540455|          540455|           540455|            406829|     540455|\n",
      "|   mean| 559980.1256542236|27600.105637869958|             20713.0|9.603128845139743|            null|4.623519023786751|15287.690570239585|       null|\n",
      "| stddev|13431.181828660614|16765.809867508244|                null|218.0075982351426|            null| 96.8896276499661|1713.6003033216014|       null|\n",
      "|    min|            536365|             10002| 4 PURPLE FLOCK D...|           -80995|2010-12-01 10:03|        -11062.06|             12346|  Australia|\n",
      "|    max|           C581569|                 m|   wrongly sold sets|            80995| 2011-12-09 9:57|          38970.0|             18287|Unspecified|\n",
      "+-------+------------------+------------------+--------------------+-----------------+----------------+-----------------+------------------+-----------+\n",
      "\n"
     ]
    }
   ],
   "source": [
    "df_drop2.describe().show()"
   ]
  },
  {
   "cell_type": "code",
   "execution_count": 71,
   "id": "49e520a0",
   "metadata": {},
   "outputs": [
    {
     "name": "stdout",
     "output_type": "stream",
     "text": [
      "+-------+------------------+------------------+--------------------+-----------------+----------------+-----------------+------------------+-----------+\n",
      "|summary|         InvoiceNo|         StockCode|         Description|         Quantity|     InvoiceDate|        UnitPrice|        CustomerID|    Country|\n",
      "+-------+------------------+------------------+--------------------+-----------------+----------------+-----------------+------------------+-----------+\n",
      "|  count|            540455|            540455|              540455|           540455|          540455|           540455|            406829|     540455|\n",
      "|   mean| 559980.1256542236|27600.105637869958|             20713.0|9.603128845139743|            null|4.623519023786751|15287.690570239585|       null|\n",
      "| stddev|13431.181828660614|16765.809867508244|                null|218.0075982351426|            null| 96.8896276499661|1713.6003033216014|       null|\n",
      "|    min|            536365|             10002| 4 PURPLE FLOCK D...|           -80995|2010-12-01 10:03|        -11062.06|             12346|  Australia|\n",
      "|    max|           C581569|                 m|   wrongly sold sets|            80995| 2011-12-09 9:57|          38970.0|             18287|Unspecified|\n",
      "+-------+------------------+------------------+--------------------+-----------------+----------------+-----------------+------------------+-----------+\n",
      "\n"
     ]
    }
   ],
   "source": [
    "# Dropping a row where nan value is in description column only\n",
    "df_drop3= df_pyspark.na.drop(how=\"any\",subset=['Description'])\n",
    "df_drop3.describe().show()"
   ]
  },
  {
   "cell_type": "markdown",
   "id": "7550bba6",
   "metadata": {},
   "source": [
    "## Replacing with a value "
   ]
  },
  {
   "cell_type": "code",
   "execution_count": 72,
   "id": "4152595d",
   "metadata": {},
   "outputs": [
    {
     "name": "stdout",
     "output_type": "stream",
     "text": [
      "+-------+------------------+------------------+--------------------+------------------+----------------+-----------------+------------------+-----------+\n",
      "|summary|         InvoiceNo|         StockCode|         Description|          Quantity|     InvoiceDate|        UnitPrice|        CustomerID|    Country|\n",
      "+-------+------------------+------------------+--------------------+------------------+----------------+-----------------+------------------+-----------+\n",
      "|  count|            541909|            541909|              541909|            541909|          541909|           541909|            406829|     541909|\n",
      "|   mean|  559965.752026781|27623.240210938104|             20713.0|  9.55224954743324|            null|4.611113626089747|15287.690570239585|       null|\n",
      "| stddev|13428.417280797334|16799.737628427712|                null|218.08115785023438|            null|96.75985306117924|1713.6003033216014|       null|\n",
      "|    min|            536365|             10002| 4 PURPLE FLOCK D...|            -80995|2010-12-01 10:03|        -11062.06|             12346|  Australia|\n",
      "|    max|           C581569|                 m|   wrongly sold sets|             80995| 2011-12-09 9:57|          38970.0|             18287|Unspecified|\n",
      "+-------+------------------+------------------+--------------------+------------------+----------------+-----------------+------------------+-----------+\n",
      "\n"
     ]
    }
   ],
   "source": [
    "## Filling missing values\n",
    "df_pyspark1= df_pyspark.na.fill('Replacing with value',['Description','CustomerID'])\n",
    "df_pyspark1.describe().show()"
   ]
  },
  {
   "cell_type": "code",
   "execution_count": 73,
   "id": "f9c64608",
   "metadata": {},
   "outputs": [
    {
     "name": "stdout",
     "output_type": "stream",
     "text": [
      "+---------+---------+-----------+--------+-----------+---------+----------+-------+\n",
      "|InvoiceNo|StockCode|Description|Quantity|InvoiceDate|UnitPrice|CustomerID|Country|\n",
      "+---------+---------+-----------+--------+-----------+---------+----------+-------+\n",
      "|        0|        0|       1454|       0|          0|        0|         0|      0|\n",
      "+---------+---------+-----------+--------+-----------+---------+----------+-------+\n",
      "\n"
     ]
    }
   ],
   "source": [
    "df3 = df_pyspark1.select([count(when(col(c).contains('Replacing with value') , c )).alias(c) \n",
    "                         for c in df_pyspark1.columns])\n",
    "                    \n",
    "df3.show()"
   ]
  },
  {
   "cell_type": "markdown",
   "id": "bb452795",
   "metadata": {},
   "source": [
    "## Replacing with Mean, Median or Mode "
   ]
  },
  {
   "cell_type": "code",
   "execution_count": 81,
   "id": "a397e804",
   "metadata": {},
   "outputs": [],
   "source": [
    "# Replacing nan value with mean, median or mode\n",
    "\n",
    "from pyspark.ml.feature import Imputer\n",
    "\n",
    "imputer= Imputer(\n",
    "    inputCols = ['Quantity','UnitPrice'],\n",
    "    outputCols= [\"{}_imputed\".format(c) for c in ['Quantity','UnitPrice']]\n",
    ").setStrategy(\"mode\")"
   ]
  },
  {
   "cell_type": "code",
   "execution_count": 83,
   "id": "47eff218",
   "metadata": {},
   "outputs": [
    {
     "name": "stdout",
     "output_type": "stream",
     "text": [
      "+---------+---------+--------------------+--------+---------------+---------+----------+--------------+----------------+-----------------+\n",
      "|InvoiceNo|StockCode|         Description|Quantity|    InvoiceDate|UnitPrice|CustomerID|       Country|Quantity_imputed|UnitPrice_imputed|\n",
      "+---------+---------+--------------------+--------+---------------+---------+----------+--------------+----------------+-----------------+\n",
      "|   536365|   85123A|WHITE HANGING HEA...|       6|2010-12-01 8:26|     2.55|     17850|United Kingdom|               6|             2.55|\n",
      "|   536365|    71053| WHITE METAL LANTERN|       6|2010-12-01 8:26|     3.39|     17850|United Kingdom|               6|             3.39|\n",
      "|   536365|   84406B|CREAM CUPID HEART...|       8|2010-12-01 8:26|     2.75|     17850|United Kingdom|               8|             2.75|\n",
      "|   536365|   84029G|KNITTED UNION FLA...|       6|2010-12-01 8:26|     3.39|     17850|United Kingdom|               6|             3.39|\n",
      "|   536365|   84029E|RED WOOLLY HOTTIE...|       6|2010-12-01 8:26|     3.39|     17850|United Kingdom|               6|             3.39|\n",
      "+---------+---------+--------------------+--------+---------------+---------+----------+--------------+----------------+-----------------+\n",
      "only showing top 5 rows\n",
      "\n"
     ]
    }
   ],
   "source": [
    "## adding imputation columns to the dataframe\n",
    "\n",
    "df_pyspark2= imputer.fit(df_pyspark).transform(df_pyspark)\n",
    "df_pyspark2.show(5)"
   ]
  },
  {
   "cell_type": "markdown",
   "id": "67dbf45e",
   "metadata": {},
   "source": [
    "## Filter operations"
   ]
  },
  {
   "cell_type": "code",
   "execution_count": 97,
   "id": "bd5f2ea1",
   "metadata": {},
   "outputs": [
    {
     "name": "stdout",
     "output_type": "stream",
     "text": [
      "+-------+------------------+------------------+--------------------+------------------+----------------+---------+------------------+-----------+\n",
      "|summary|         InvoiceNo|         StockCode|         Description|          Quantity|     InvoiceDate|UnitPrice|        CustomerID|    Country|\n",
      "+-------+------------------+------------------+--------------------+------------------+----------------+---------+------------------+-----------+\n",
      "|  count|             50496|             50496|               50496|             50496|           50496|    50496|             46555|      50496|\n",
      "|   mean| 560445.9427371214| 28142.18578545618|                null| 9.865553707224334|            null|     1.25|15355.116829556438|       null|\n",
      "| stddev|13443.691566396725|18095.181275354218|                null|19.079502443429362|            null|      0.0|1720.0474883042696|       null|\n",
      "|    min|            536370|             10135| 50'S CHRISTMAS G...|              -840|2010-12-01 10:03|     1.25|             12347|  Australia|\n",
      "|    max|           C581569|                 M|ZINC WIRE SWEETHE...|              1000| 2011-12-09 9:46|     1.25|             18287|Unspecified|\n",
      "+-------+------------------+------------------+--------------------+------------------+----------------+---------+------------------+-----------+\n",
      "\n"
     ]
    }
   ],
   "source": [
    "# Selecting rows where  unit price == 1.25\n",
    "\n",
    "df_pyspark3= df_pyspark.filter(df_pyspark['UnitPrice'] == 1.25 )\n",
    "df_pyspark3.describe().show()"
   ]
  },
  {
   "cell_type": "code",
   "execution_count": 98,
   "id": "ed8afa62",
   "metadata": {},
   "outputs": [
    {
     "name": "stdout",
     "output_type": "stream",
     "text": [
      "+-------+-----------------+---------+--------------------+-----------------+----------------+---------+------------------+--------------+\n",
      "|summary|        InvoiceNo|StockCode|         Description|         Quantity|     InvoiceDate|UnitPrice|        CustomerID|       Country|\n",
      "+-------+-----------------+---------+--------------------+-----------------+----------------+---------+------------------+--------------+\n",
      "|  count|              107|      107|                 107|              107|             107|      107|               106|           107|\n",
      "|   mean|549584.5046728972|  85049.0|                null|5.046728971962617|            null|     1.25|15388.443396226416|          null|\n",
      "| stddev|7496.557490915341|      0.0|                null|5.553144914795467|            null|      0.0| 1819.615485703811|          null|\n",
      "|    min|           536404|   85049D|BRIGHT BLUES RIBB...|                1|2010-12-01 11:29|     1.25|             12428|          EIRE|\n",
      "|    max|           568712|   85049D|BRIGHT BLUES RIBB...|               36|2011-09-28 15:50|     1.25|             18077|United Kingdom|\n",
      "+-------+-----------------+---------+--------------------+-----------------+----------------+---------+------------------+--------------+\n",
      "\n"
     ]
    }
   ],
   "source": [
    "# Selecting rows where  unit price == 1.25 and StockCode = '85049D'\n",
    "\n",
    "df_pyspark4= df_pyspark.filter((df_pyspark['UnitPrice'] == 1.25) & \n",
    "                               (df_pyspark['StockCode'] == '85049D'))\n",
    "df_pyspark4.describe().show()"
   ]
  },
  {
   "cell_type": "code",
   "execution_count": 99,
   "id": "172ee5e8",
   "metadata": {},
   "outputs": [
    {
     "name": "stdout",
     "output_type": "stream",
     "text": [
      "+-------+------------------+------------------+--------------------+-----------------+----------------+-----------------+------------------+-----------+\n",
      "|summary|         InvoiceNo|         StockCode|         Description|         Quantity|     InvoiceDate|        UnitPrice|        CustomerID|    Country|\n",
      "+-------+------------------+------------------+--------------------+-----------------+----------------+-----------------+------------------+-----------+\n",
      "|  count|            491413|            491413|              489959|           491413|          491413|           491413|            360274|     491413|\n",
      "|   mean| 559916.2745777805|27568.831295942182|             20713.0|9.520055431988979|            null|4.956490719620057|15278.977675324892|       null|\n",
      "| stddev|13425.880469683905|16657.168154764968|                null|228.9301920834687|            null| 101.603384947365| 1712.574142962843|       null|\n",
      "|    min|            536365|             10002| 4 PURPLE FLOCK D...|           -80995|2010-12-01 10:03|        -11062.06|             12346|  Australia|\n",
      "|    max|           C581568|                 m|   wrongly sold sets|            80995| 2011-12-09 9:57|          38970.0|             18287|Unspecified|\n",
      "+-------+------------------+------------------+--------------------+-----------------+----------------+-----------------+------------------+-----------+\n",
      "\n"
     ]
    }
   ],
   "source": [
    "# Selecting rows where  unit price <> 1.25\n",
    "\n",
    "df_pyspark5= df_pyspark.filter(~(df_pyspark['UnitPrice'] == 1.25 ))\n",
    "df_pyspark5.describe().show()"
   ]
  },
  {
   "cell_type": "markdown",
   "id": "f38b2628",
   "metadata": {},
   "source": [
    "## GroupBy function"
   ]
  },
  {
   "cell_type": "code",
   "execution_count": 107,
   "id": "c7c5552f",
   "metadata": {},
   "outputs": [
    {
     "name": "stdout",
     "output_type": "stream",
     "text": [
      "+--------------+---------+------------------+-------------+\n",
      "|       Country|StockCode|    sum(UnitPrice)|sum(Quantity)|\n",
      "+--------------+---------+------------------+-------------+\n",
      "|United Kingdom|    21125|            111.06|          313|\n",
      "|United Kingdom|    21794|            519.86|          509|\n",
      "|United Kingdom|    21662|             212.2|           70|\n",
      "|          EIRE|   85136C|              15.9|            4|\n",
      "|United Kingdom|   84032A|           1083.44|          929|\n",
      "|United Kingdom|   84086C|142.68999999999994|          174|\n",
      "|United Kingdom|   90214H|25.639999999999993|           48|\n",
      "|United Kingdom|    22753|202.60000000000002|          851|\n",
      "|United Kingdom|    22315|237.37000000000003|          674|\n",
      "|United Kingdom|   85039a|             95.62|           40|\n",
      "|         Italy|   85036B|              4.25|            6|\n",
      "|        France|    21539|              48.8|           59|\n",
      "|United Kingdom|    21253|306.32000000000005|          105|\n",
      "|United Kingdom|    47480|208.47999999999996|          724|\n",
      "|          EIRE|    22569|              30.0|           56|\n",
      "|          EIRE|    22570|             25.89|           76|\n",
      "|United Kingdom|   90129D|             14.11|           14|\n",
      "|United Kingdom|   84558a|             29.31|            5|\n",
      "|        France|    21154|              8.75|           62|\n",
      "|United Kingdom|    90093|11.889999999999999|           52|\n",
      "+--------------+---------+------------------+-------------+\n",
      "only showing top 20 rows\n",
      "\n"
     ]
    }
   ],
   "source": [
    "# Grouping based on Country and StockCode  and doing sum of UnitPrice and Quantity\n",
    "\n",
    "df_pyspark6= df_pyspark.groupby('Country','StockCode').sum('UnitPrice','Quantity')\n",
    "df_pyspark6.show()"
   ]
  },
  {
   "cell_type": "code",
   "execution_count": 111,
   "id": "65e9dcf0",
   "metadata": {},
   "outputs": [
    {
     "name": "stdout",
     "output_type": "stream",
     "text": [
      "+--------------+---------+------------------+------------------+\n",
      "|       Country|StockCode|     avg(Quantity)|    avg(UnitPrice)|\n",
      "+--------------+---------+------------------+------------------+\n",
      "|United Kingdom|    21125|3.7710843373493974|1.3380722891566266|\n",
      "|United Kingdom|    21794| 4.757009345794392| 4.858504672897197|\n",
      "|United Kingdom|    21662|               2.5| 7.578571428571428|\n",
      "|          EIRE|   85136C|               2.0|              7.95|\n",
      "|United Kingdom|   84032A|3.0064724919093853|3.5062783171521037|\n",
      "|United Kingdom|   84086C|             3.625| 2.972708333333332|\n",
      "|United Kingdom|   90214H|               1.6|0.8546666666666665|\n",
      "|United Kingdom|    22753| 4.131067961165049|0.9834951456310681|\n",
      "|United Kingdom|    22315| 4.186335403726708|1.4743478260869567|\n",
      "|United Kingdom|   85039a|1.3793103448275863| 3.297241379310345|\n",
      "|         Italy|   85036B|               6.0|              4.25|\n",
      "|        France|    21539|               5.9|              4.88|\n",
      "|United Kingdom|    21253|              1.75| 5.105333333333334|\n",
      "|United Kingdom|    47480| 8.418604651162791|2.4241860465116276|\n",
      "|          EIRE|    22569|               7.0|              3.75|\n",
      "|          EIRE|    22570|10.857142857142858| 3.698571428571429|\n",
      "|United Kingdom|   90129D|               2.0|2.0157142857142856|\n",
      "|United Kingdom|   84558a|               1.0|             5.862|\n",
      "|        France|    21154| 8.857142857142858|              1.25|\n",
      "|United Kingdom|    90093|               5.2|1.1889999999999998|\n",
      "+--------------+---------+------------------+------------------+\n",
      "only showing top 20 rows\n",
      "\n"
     ]
    }
   ],
   "source": [
    "# Grouping based on Country and StockCode  and getting mean of UnitPrice and Quantity\n",
    "\n",
    "df_pyspark6= df_pyspark.groupby('Country','StockCode').mean('Quantity','UnitPrice')\n",
    "df_pyspark6.show()"
   ]
  },
  {
   "cell_type": "code",
   "execution_count": 109,
   "id": "665c12e5",
   "metadata": {},
   "outputs": [
    {
     "name": "stdout",
     "output_type": "stream",
     "text": [
      "+--------------+---------+-----+\n",
      "|       Country|StockCode|count|\n",
      "+--------------+---------+-----+\n",
      "|United Kingdom|    21125|   83|\n",
      "|United Kingdom|    21794|  107|\n",
      "|United Kingdom|    21662|   28|\n",
      "|          EIRE|   85136C|    2|\n",
      "|United Kingdom|   84032A|  309|\n",
      "|United Kingdom|   84086C|   48|\n",
      "|United Kingdom|   90214H|   30|\n",
      "|United Kingdom|    22753|  206|\n",
      "|United Kingdom|    22315|  161|\n",
      "|United Kingdom|   85039a|   29|\n",
      "|         Italy|   85036B|    1|\n",
      "|        France|    21539|   10|\n",
      "|United Kingdom|    21253|   60|\n",
      "|United Kingdom|    47480|   86|\n",
      "|          EIRE|    22569|    8|\n",
      "|          EIRE|    22570|    7|\n",
      "|United Kingdom|   90129D|    7|\n",
      "|United Kingdom|   84558a|    5|\n",
      "|        France|    21154|    7|\n",
      "|United Kingdom|    90093|   10|\n",
      "+--------------+---------+-----+\n",
      "only showing top 20 rows\n",
      "\n"
     ]
    }
   ],
   "source": [
    "# Grouping based on Country and StockCode  and doing sum of UnitPrice and Quantity\n",
    "\n",
    "df_pyspark6= df_pyspark.groupby('Country','StockCode').count()\n",
    "df_pyspark6.show()"
   ]
  },
  {
   "cell_type": "code",
   "execution_count": 112,
   "id": "383ebab2",
   "metadata": {},
   "outputs": [
    {
     "name": "stdout",
     "output_type": "stream",
     "text": [
      "+---------------+-------------+--------------+---------------+\n",
      "|        Country|max(Quantity)|max(UnitPrice)|max(CustomerID)|\n",
      "+---------------+-------------+--------------+---------------+\n",
      "|         Sweden|          768|          40.0|          17404|\n",
      "|      Singapore|          288|       3949.32|          12744|\n",
      "|        Germany|          600|         599.5|          14335|\n",
      "|         France|          912|       4161.06|          14277|\n",
      "|         Greece|           48|          50.0|          17508|\n",
      "|        Belgium|          272|         39.95|          12876|\n",
      "|        Finland|          144|         275.6|          12704|\n",
      "|          Italy|          200|         300.0|          14912|\n",
      "|           EIRE|         1440|        1917.0|          14911|\n",
      "|      Lithuania|           48|          5.95|          15332|\n",
      "|         Norway|          240|         700.0|          12752|\n",
      "|          Spain|          360|       1715.85|          17097|\n",
      "|        Denmark|          256|          18.0|          13919|\n",
      "|      Hong Kong|          144|       2653.95|           null|\n",
      "|        Iceland|          240|         12.75|          12347|\n",
      "|         Israel|          100|         125.0|          12688|\n",
      "|Channel Islands|          407|         293.0|          14937|\n",
      "|         Cyprus|          288|        320.69|          13809|\n",
      "|    Switzerland|          288|          40.0|          13520|\n",
      "|        Lebanon|           24|         14.95|          12764|\n",
      "+---------------+-------------+--------------+---------------+\n",
      "only showing top 20 rows\n",
      "\n"
     ]
    }
   ],
   "source": [
    "df_pyspark7 = df_pyspark.groupby('Country').max()\n",
    "df_pyspark7.show()"
   ]
  },
  {
   "cell_type": "code",
   "execution_count": 117,
   "id": "6673c846",
   "metadata": {},
   "outputs": [
    {
     "name": "stdout",
     "output_type": "stream",
     "text": [
      "+--------------+---------+------------------+-------------+\n",
      "|       Country|StockCode|    sum(UnitPrice)|max(Quantity)|\n",
      "+--------------+---------+------------------+-------------+\n",
      "|United Kingdom|    21125|            111.06|           12|\n",
      "|United Kingdom|    21794|            519.86|           40|\n",
      "|United Kingdom|    21662|             212.2|           48|\n",
      "|          EIRE|   85136C|              15.9|            2|\n",
      "|United Kingdom|   84032A|           1083.44|           44|\n",
      "|United Kingdom|   84086C|142.68999999999994|           30|\n",
      "|United Kingdom|   90214H|25.639999999999993|           12|\n",
      "|United Kingdom|    22753|202.60000000000002|           72|\n",
      "|United Kingdom|    22315|237.37000000000003|           96|\n",
      "|United Kingdom|   85039a|             95.62|            3|\n",
      "|         Italy|   85036B|              4.25|            6|\n",
      "|        France|    21539|              48.8|           18|\n",
      "|United Kingdom|    21253|306.32000000000005|            6|\n",
      "|United Kingdom|    47480|208.47999999999996|           96|\n",
      "|          EIRE|    22569|              30.0|           12|\n",
      "|          EIRE|    22570|             25.89|           32|\n",
      "|United Kingdom|   90129D|             14.11|            6|\n",
      "|United Kingdom|   84558a|             29.31|            1|\n",
      "|        France|    21154|              8.75|           10|\n",
      "|United Kingdom|    90093|11.889999999999999|           20|\n",
      "+--------------+---------+------------------+-------------+\n",
      "only showing top 20 rows\n",
      "\n"
     ]
    }
   ],
   "source": [
    "df_pyspark8 = df_pyspark.groupby('Country','StockCode').agg({'Quantity':'Max','UnitPrice':'Sum'})\n",
    "df_pyspark8.show()"
   ]
  }
 ],
 "metadata": {
  "kernelspec": {
   "display_name": "Python 3 (ipykernel)",
   "language": "python",
   "name": "python3"
  },
  "language_info": {
   "codemirror_mode": {
    "name": "ipython",
    "version": 3
   },
   "file_extension": ".py",
   "mimetype": "text/x-python",
   "name": "python",
   "nbconvert_exporter": "python",
   "pygments_lexer": "ipython3",
   "version": "3.9.7"
  }
 },
 "nbformat": 4,
 "nbformat_minor": 5
}
